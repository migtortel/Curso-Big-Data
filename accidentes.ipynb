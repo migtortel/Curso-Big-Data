{
 "cells": [
  {
   "cell_type": "code",
   "execution_count": 9,
   "id": "4db6501f-cfb8-436b-ad83-a8860cb37ab0",
   "metadata": {},
   "outputs": [],
   "source": [
    "import pandas as pd\n",
    "df = pd.read_csv('AccidentesBicicletas_2023.csv', delimiter =';', index_col=0)"
   ]
  },
  {
   "cell_type": "code",
   "execution_count": 35,
   "id": "3a4fa008-a3b6-482b-a890-b0bce7c63294",
   "metadata": {
    "scrolled": true
   },
   "outputs": [
    {
     "name": "stdout",
     "output_type": "stream",
     "text": [
      "Número total de filas (usando len()): 905\n"
     ]
    }
   ],
   "source": [
    "total_filas = len(df)\n",
    "print(\"Número total de filas (usando len()):\", total_filas)"
   ]
  },
  {
   "cell_type": "code",
   "execution_count": 36,
   "id": "7772cf90-927f-438b-a8c9-8f3546804017",
   "metadata": {},
   "outputs": [
    {
     "name": "stdout",
     "output_type": "stream",
     "text": [
      "Número de registros donde positiva_alcohol es 'S': 21\n"
     ]
    }
   ],
   "source": [
    "\n",
    "# Contar registros donde df['positiva_alcohol'] == 'S'\n",
    "conteo = (df['positiva_alcohol'] == 'S').sum()\n",
    "\n",
    "print(\"Número de registros donde positiva_alcohol es 'S':\", conteo)"
   ]
  },
  {
   "cell_type": "code",
   "execution_count": 37,
   "id": "fb37f2ef-33c1-428c-8fc6-cf1b69ac1657",
   "metadata": {},
   "outputs": [
    {
     "name": "stdout",
     "output_type": "stream",
     "text": [
      "2.3204419889502765\n"
     ]
    }
   ],
   "source": [
    "porcentaje_alcohol = (conteo / total_filas) * 100\n",
    "print(porcentaje_alcohol)"
   ]
  },
  {
   "cell_type": "code",
   "execution_count": null,
   "id": "f6e833bd-9781-4531-9d77-6c625a10e883",
   "metadata": {},
   "outputs": [],
   "source": []
  }
 ],
 "metadata": {
  "kernelspec": {
   "display_name": "Python 3 (ipykernel)",
   "language": "python",
   "name": "python3"
  },
  "language_info": {
   "codemirror_mode": {
    "name": "ipython",
    "version": 3
   },
   "file_extension": ".py",
   "mimetype": "text/x-python",
   "name": "python",
   "nbconvert_exporter": "python",
   "pygments_lexer": "ipython3",
   "version": "3.8.19"
  }
 },
 "nbformat": 4,
 "nbformat_minor": 5
}
