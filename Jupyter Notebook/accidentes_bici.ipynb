{
  "metadata": {
    "kernelspec": {
      "name": "python",
      "display_name": "Python (Pyodide)",
      "language": "python"
    },
    "language_info": {
      "codemirror_mode": {
        "name": "python",
        "version": 3
      },
      "file_extension": ".py",
      "mimetype": "text/x-python",
      "name": "python",
      "nbconvert_exporter": "python",
      "pygments_lexer": "ipython3",
      "version": "3.8"
    }
  },
  "nbformat_minor": 4,
  "nbformat": 4,
  "cells": [
    {
      "cell_type": "markdown",
      "source": "Importo la libreria pandas para trabajar con data sets",
      "metadata": {}
    },
    {
      "cell_type": "code",
      "source": "import pandas as pd",
      "metadata": {
        "trusted": true
      },
      "outputs": [],
      "execution_count": 1
    },
    {
      "cell_type": "markdown",
      "source": "Cargo el .csv, le indico el separador de columnas y le fuerzo un schema para que reconozca el campo como texto (por defecto es objeto)",
      "metadata": {}
    },
    {
      "cell_type": "code",
      "source": "dtype_schema = { 'positiva_alcohol':'str'}\ndf = pd.read_csv('AccidentesBicicletas_2023.csv', delimiter=';', dtype = dtype_schema)",
      "metadata": {
        "trusted": true
      },
      "outputs": [],
      "execution_count": 2
    },
    {
      "cell_type": "markdown",
      "source": "Calculo el numero de registros totales (cuidado con los nulos) ",
      "metadata": {}
    },
    {
      "cell_type": "code",
      "source": "total_registros = len(df)\nprint(\"El numero total de registros es: \", total_registros)",
      "metadata": {
        "trusted": true
      },
      "outputs": [
        {
          "name": "stdout",
          "text": "El numero total de registros es:  905\n",
          "output_type": "stream"
        }
      ],
      "execution_count": 3
    },
    {
      "cell_type": "markdown",
      "source": "Calculo el numero de registros en los que la columna 'positiva_alcohol' es S    -----     S / N ",
      "metadata": {}
    },
    {
      "cell_type": "code",
      "source": "conteo = (df['positiva_alcohol'] == 'S').sum()\n\nprint(\"Número de registros donde hay alcohol involucrado:\", conteo)",
      "metadata": {
        "trusted": true
      },
      "outputs": [
        {
          "name": "stdout",
          "text": "Número de registros donde hay alcohol involucrado: 21\n",
          "output_type": "stream"
        }
      ],
      "execution_count": 4
    },
    {
      "cell_type": "markdown",
      "source": "Calculo el porcentaje de accidentes del año 2023 en los que el conductor dio positivo en alcohol",
      "metadata": {}
    },
    {
      "cell_type": "code",
      "source": "porcentaje_alcohol = (conteo/total_registros)*100\nprint(\"El porcentaje de accientes donde el conductor dio positivo en alcohol es: \", porcentaje_alcohol)\nprint(f\"Porcentaje de accidentes con alcohol: {porcentaje_alcohol:.2f}%\")",
      "metadata": {
        "trusted": true
      },
      "outputs": [
        {
          "name": "stdout",
          "text": "El porcentaje de accientes donde el conductor dio positivo en alcohol es:  2.3204419889502765\nPorcentaje de accidentes con alcohol: 2.32%\n",
          "output_type": "stream"
        }
      ],
      "execution_count": 8
    },
    {
      "cell_type": "code",
      "source": "",
      "metadata": {
        "trusted": true
      },
      "outputs": [],
      "execution_count": null
    }
  ]
}